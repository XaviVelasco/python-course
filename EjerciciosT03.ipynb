{
 "cells": [
  {
   "cell_type": "code",
   "execution_count": 12,
   "metadata": {},
   "outputs": [
    {
     "name": "stdout",
     "output_type": "stream",
     "text": [
      "Qué quieres hacer?\n",
      "[1] Sumar\n",
      "[2] Restar\n",
      "[3] Multiplicar\n",
      "Opción incorrecta\n"
     ]
    }
   ],
   "source": [
    "# Ejercicios Control de flujo\n",
    "\n",
    "#1. Leer 2 números por teclado y permita elegir entre 3 opciones en un menú:\n",
    "#  - mostrar una suma de los dos números\n",
    "#  - resta el primero menos el segundo\n",
    "#  - multiplicación\n",
    "#  - si no se introduce algo válido, informar de que no es correcto\n",
    "\n",
    "n1 = float( input(\"introduce el primer número: \") )\n",
    "n2 = float( input(\"Introduce el segundo número\") )\n",
    "\n",
    "print(\"Qué quieres hacer?\")\n",
    "print(\"[1] Sumar\")\n",
    "print(\"[2] Restar\")\n",
    "print(\"[3] Multiplicar\")      \n",
    "opcion = int( input(\"¿Qué opción eliges?\") )\n",
    "\n",
    "if (opcion == 1):\n",
    "    print ( n1 + n2 )\n",
    "elif (opcion == 2):\n",
    "    print( n1 - n2 )\n",
    "elif (opcion == 3):\n",
    "    print ( n1 * n2 )\n",
    "else: \n",
    "    print(\"Opción incorrecta\")\n",
    "\n"
   ]
  },
  {
   "cell_type": "code",
   "execution_count": null,
   "metadata": {},
   "outputs": [
    {
     "name": "stdout",
     "output_type": "stream",
     "text": [
      "el número impar que has elegido es:  3\n"
     ]
    }
   ],
   "source": [
    "#2. Pedir un número impar, preguntar hasta que se introduce.\n",
    "\n",
    "numero = 0\n",
    "while (numero % 2 == 0):\n",
    "    numero = int( input(\"Introduce un número impar\") )\n",
    "print(\"el número impar que has elegido es: \", numero)"
   ]
  },
  {
   "cell_type": "code",
   "execution_count": null,
   "metadata": {},
   "outputs": [
    {
     "name": "stdout",
     "output_type": "stream",
     "text": [
      "La suma de todos los número da:  2550\n"
     ]
    }
   ],
   "source": [
    "#3. Suma todos los números enteros pares desde el 0 hasta el 100.\n",
    "\n",
    "i = 0\n",
    "suma = 0\n",
    "\n",
    "while i <= 100:\n",
    "    if i % 2 == 0:\n",
    "        suma += i\n",
    "        i = i + 2\n",
    "print(\"La suma de todos los número da: \", suma)"
   ]
  },
  {
   "cell_type": "code",
   "execution_count": null,
   "metadata": {},
   "outputs": [
    {
     "name": "stdout",
     "output_type": "stream",
     "text": [
      "2550\n"
     ]
    }
   ],
   "source": [
    "#3. (v2) Optimizada\n",
    "# list(range(0, 101, 2))\n",
    "\n",
    "suma = sum( range(0, 101, 2))\n",
    "print(\"La suma de todos los número da: \", suma)"
   ]
  },
  {
   "cell_type": "code",
   "execution_count": null,
   "metadata": {},
   "outputs": [
    {
     "ename": "SyntaxError",
     "evalue": "invalid syntax (1967090752.py, line 9)",
     "output_type": "error",
     "traceback": [
      "\u001b[0;36m  Cell \u001b[0;32mIn[17], line 9\u001b[0;36m\u001b[0m\n\u001b[0;31m    j = j + n\u001b[0m\n\u001b[0m    ^\u001b[0m\n\u001b[0;31mSyntaxError\u001b[0m\u001b[0;31m:\u001b[0m invalid syntax\n"
     ]
    }
   ],
   "source": [
    "#4. Pide cuántos núms quiere introducir y hacer la media aritmética.\n",
    "\n",
    "# n = 0\n",
    "# j = []\n",
    "# i = int( input(\"Cuántos números quieres introducir?\"))\n",
    "\n",
    "# while n <= i:\n",
    "#     n = int( input(\"Introduce un número: \")\n",
    "#     j = j + n\n",
    "#     n += 1\n",
    "\n",
    "# print(n, j , i)\n"
   ]
  },
  {
   "cell_type": "code",
   "execution_count": 1,
   "metadata": {},
   "outputs": [
    {
     "name": "stdout",
     "output_type": "stream",
     "text": [
      "Se han introducido  3  números, que en total han sumado  11 y la media es  3.6666666666666665\n"
     ]
    }
   ],
   "source": [
    "#4. Corrección:\n",
    "\n",
    "repeticiones = int( input(\"Introduce cuántos números quieres:\"))\n",
    "suma = 0\n",
    "\n",
    "for r in range(repeticiones):\n",
    "    suma += int( input(\"Introduce un número: \"))\n",
    "\n",
    "print(\"Se han introducido \",repeticiones,\" números, que en total han sumado \",suma,\"y la media es \", suma / repeticiones)"
   ]
  },
  {
   "cell_type": "code",
   "execution_count": 9,
   "metadata": {},
   "outputs": [
    {
     "name": "stdout",
     "output_type": "stream",
     "text": [
      "Ese no está en la lista  [1, 3, 6, 9]\n",
      "Ese no está en la lista  [1, 3, 6, 9]\n",
      "Ese no está en la lista  [1, 3, 6, 9]\n",
      "El número sí está en la lista, es  6\n"
     ]
    }
   ],
   "source": [
    "#5. Pide un número del 0 al 9, y que mientras el número no sea correcto repita el proceso. \n",
    "# Luego comprobar si el número está en la lista de números y notificarlo.\n",
    "\n",
    "numeros = [1, 3, 6, 9]\n",
    "\n",
    "n = int( input(\"Dime un número del 0 al 9: \"))\n",
    "\n",
    "while n not in numeros or (n < 0 or n > 9):\n",
    "    print(\"Ese no está en la lista \", numeros, )\n",
    "    n = int( input(\"dime otro número del 0 al 9: \")) \n",
    "print(\"El número sí está en la lista, es \", n)"
   ]
  },
  {
   "cell_type": "code",
   "execution_count": 10,
   "metadata": {},
   "outputs": [
    {
     "name": "stdout",
     "output_type": "stream",
     "text": [
      "Ese no está en la lista  [1, 3, 6, 9]\n"
     ]
    }
   ],
   "source": [
    "#5. Otra forma\n",
    "\n",
    "numeros = [1, 3, 6, 9]\n",
    "\n",
    "while True:\n",
    "    n = int( input(\"Dime un número del 0 al 9: \"))\n",
    "    if n >= 0 and n <= 9:\n",
    "        break\n",
    "\n",
    "if n in numeros:\n",
    "    print(\"El número sí está en la lista, es \", n)\n",
    "else:\n",
    "    print(\"Ese no está en la lista \", numeros, )"
   ]
  },
  {
   "cell_type": "code",
   "execution_count": null,
   "metadata": {},
   "outputs": [
    {
     "name": "stdout",
     "output_type": "stream",
     "text": [
      "[0, 1, 2, 3, 4, 5, 6, 7, 8, 9, 10]\n",
      "[-10, -9, -8, -7, -6, -5, -4, -3, -2, -1, 0]\n",
      "[0, 2, 4, 6, 8, 10, 12, 14, 16, 18, 20]\n",
      "[-19, -17, -15, -13, -11, -9, -7, -5, -3, -1]\n",
      "[0, 5, 10, 15, 20, 25, 30, 35, 40, 45, 50]\n"
     ]
    }
   ],
   "source": [
    "#6. Utilizando la función range() y la conversión a listas genera las siguientes listas dinámicamete\n",
    "\n",
    "#6.1 Todos los números del 0 al 10\n",
    "\n",
    "print( list( range(0,11)))\n",
    "\n",
    "#6.2 Todos los números del -10 al 0\n",
    "\n",
    "print( list( range(-10,1)))\n",
    "\n",
    "#6.3 Todos los números pares del 0 al 20\n",
    "\n",
    "print( list( range(0, 21, 2)))\n",
    "\n",
    "#6.4 Todos los números impares entre -20 y 0\n",
    "\n",
    "print( list( range(-19, 0, 2)))\n",
    "\n",
    "#6.5 Todos los números múltiples de 5 del 0 al 50\n",
    "\n",
    "print( list( range(0, 51, 5)))\n"
   ]
  },
  {
   "cell_type": "code",
   "execution_count": 12,
   "metadata": {},
   "outputs": [
    {
     "name": "stdout",
     "output_type": "stream",
     "text": [
      "['h', 'o', 'l', 'a', ' ', 'u', 'n']\n"
     ]
    }
   ],
   "source": [
    "# 7. Dadas dos listas, generar una tercera con todos los elementos que se repiten en ellas,\n",
    "# pero sin repetir ninguna en la nueva lista.\n",
    "\n",
    "lista_1 = [\"h\", 'o', 'l', 'a', ' ','m','u','n','d','o']\n",
    "lista_2 = [\"h\",'o','l','a',' ','l','u','n','a']\n",
    "\n",
    "lista_3 = []\n",
    "\n",
    "for letra in lista_1:\n",
    "    if letra in lista_2 and letra not in lista_3:\n",
    "        lista_3.append(letra)\n",
    "\n",
    "print(lista_3)\n"
   ]
  }
 ],
 "metadata": {
  "kernelspec": {
   "display_name": "Python 3",
   "language": "python",
   "name": "python3"
  },
  "language_info": {
   "codemirror_mode": {
    "name": "ipython",
    "version": 3
   },
   "file_extension": ".py",
   "mimetype": "text/x-python",
   "name": "python",
   "nbconvert_exporter": "python",
   "pygments_lexer": "ipython3",
   "version": "3.9.6"
  }
 },
 "nbformat": 4,
 "nbformat_minor": 2
}
