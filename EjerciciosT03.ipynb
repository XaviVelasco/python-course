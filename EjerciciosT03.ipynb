{
 "cells": [
  {
   "cell_type": "code",
   "execution_count": 12,
   "metadata": {},
   "outputs": [
    {
     "name": "stdout",
     "output_type": "stream",
     "text": [
      "Qué quieres hacer?\n",
      "[1] Sumar\n",
      "[2] Restar\n",
      "[3] Multiplicar\n",
      "Opción incorrecta\n"
     ]
    }
   ],
   "source": [
    "# Ejercicios Control de flujo\n",
    "\n",
    "#1. Leer 2 números por teclado y permita elegir entre 3 opciones en un menú:\n",
    "#  - mostrar una suma de los dos números\n",
    "#  - resta el primero menos el segundo\n",
    "#  - multiplicación\n",
    "#  - si no se introduce algo válido, informar de que no es correcto\n",
    "\n",
    "n1 = float( input(\"introduce el primer número: \") )\n",
    "n2 = float( input(\"Introduce el segundo número\") )\n",
    "\n",
    "print(\"Qué quieres hacer?\")\n",
    "print(\"[1] Sumar\")\n",
    "print(\"[2] Restar\")\n",
    "print(\"[3] Multiplicar\")      \n",
    "opcion = int( input(\"¿Qué opción eliges?\") )\n",
    "\n",
    "if (opcion == 1):\n",
    "    print ( n1 + n2 )\n",
    "elif (opcion == 2):\n",
    "    print( n1 - n2 )\n",
    "elif (opcion == 3):\n",
    "    print ( n1 * n2 )\n",
    "else: \n",
    "    print(\"Opción incorrecta\")\n",
    "\n"
   ]
  },
  {
   "cell_type": "code",
   "execution_count": null,
   "metadata": {},
   "outputs": [
    {
     "name": "stdout",
     "output_type": "stream",
     "text": [
      "el número impar que has elegido es:  5\n"
     ]
    }
   ],
   "source": [
    "#2. Pedir un número impar, preguntar hasta que se introduce.\n",
    "\n",
    "numero = 0\n",
    "while (numero % 2 == 0):\n",
    "    numero = int(input(\"Introduce un número impar\"))\n",
    "print(\"el número impar que has elegido es: \", numero)"
   ]
  },
  {
   "cell_type": "markdown",
   "metadata": {},
   "source": []
  }
 ],
 "metadata": {
  "kernelspec": {
   "display_name": "Python 3",
   "language": "python",
   "name": "python3"
  },
  "language_info": {
   "codemirror_mode": {
    "name": "ipython",
    "version": 3
   },
   "file_extension": ".py",
   "mimetype": "text/x-python",
   "name": "python",
   "nbconvert_exporter": "python",
   "pygments_lexer": "ipython3",
   "version": "3.9.6"
  }
 },
 "nbformat": 4,
 "nbformat_minor": 2
}
