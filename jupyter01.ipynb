{
 "cells": [
  {
   "cell_type": "code",
   "execution_count": 1,
   "metadata": {},
   "outputs": [
    {
     "data": {
      "text/plain": [
       "[1, 2, 3, 4, 5, 6]"
      ]
     },
     "execution_count": 1,
     "metadata": {},
     "output_type": "execute_result"
    }
   ],
   "source": [
    "lista = [1,2,3,4,5,6]\n",
    "lista"
   ]
  },
  {
   "cell_type": "code",
   "execution_count": 1,
   "metadata": {},
   "outputs": [
    {
     "data": {
      "text/plain": [
       "[10, 20, 30, 40, 50, 60, 70, 80]"
      ]
     },
     "execution_count": 1,
     "metadata": {},
     "output_type": "execute_result"
    }
   ],
   "source": [
    "indice = 0\n",
    "numeros = [1,2,3,4,5,6,7,8]\n",
    "for numero in numeros:\n",
    "    numeros[indice] *= 10\n",
    "    indice+=1\n",
    "numeros"
   ]
  },
  {
   "cell_type": "code",
   "execution_count": 2,
   "metadata": {},
   "outputs": [
    {
     "data": {
      "text/plain": [
       "[10, 20, 30, 40, 50, 60, 70, 80, 90, 100]"
      ]
     },
     "execution_count": 2,
     "metadata": {},
     "output_type": "execute_result"
    }
   ],
   "source": [
    "numeros = [1,2,3,4,5,6,7,8,9,10]\n",
    "for indice, numero in enumerate(numeros):\n",
    "    numeros[indice] *= 10\n",
    "numeros"
   ]
  },
  {
   "cell_type": "code",
   "execution_count": 3,
   "metadata": {},
   "outputs": [
    {
     "name": "stdout",
     "output_type": "stream",
     "text": [
      "H\n",
      "o\n",
      "l\n",
      "a\n",
      " \n",
      "a\n",
      "m\n",
      "i\n",
      "g\n",
      "o\n",
      "s\n"
     ]
    }
   ],
   "source": [
    "cadena = \"Hola amigos\"\n",
    "for caracter in cadena:\n",
    "    print(caracter)"
   ]
  },
  {
   "cell_type": "code",
   "execution_count": 5,
   "metadata": {},
   "outputs": [
    {
     "data": {
      "text/plain": [
       "'***********'"
      ]
     },
     "execution_count": 5,
     "metadata": {},
     "output_type": "execute_result"
    }
   ],
   "source": [
    "cadena2 = \"\"\n",
    "for caracter in cadena:\n",
    "    cadena2 += \"*\"\n",
    "cadena2"
   ]
  },
  {
   "cell_type": "code",
   "execution_count": 7,
   "metadata": {},
   "outputs": [
    {
     "name": "stdout",
     "output_type": "stream",
     "text": [
      "0\n",
      "1\n",
      "2\n",
      "3\n",
      "4\n",
      "5\n",
      "6\n",
      "7\n",
      "8\n",
      "9\n"
     ]
    }
   ],
   "source": [
    "for i in range(10):\n",
    "    print(i)"
   ]
  },
  {
   "cell_type": "code",
   "execution_count": 8,
   "metadata": {},
   "outputs": [
    {
     "data": {
      "text/plain": [
       "range(0, 10)"
      ]
     },
     "execution_count": 8,
     "metadata": {},
     "output_type": "execute_result"
    }
   ],
   "source": [
    "range(10)"
   ]
  },
  {
   "cell_type": "code",
   "execution_count": 10,
   "metadata": {},
   "outputs": [
    {
     "name": "stdout",
     "output_type": "stream",
     "text": [
      "0 5\n",
      "1 1\n",
      "2 -4\n",
      "3 8\n",
      "4 9\n",
      "5 12\n",
      "6 0\n",
      "7 3\n",
      "8 -1\n",
      "9 8\n"
     ]
    }
   ],
   "source": [
    "numeros = [5,1,-4,8,9,12,0,3,-1,8]\n",
    "\n",
    "for indice, numero in enumerate(numeros):\n",
    "    print(indice, numero)"
   ]
  },
  {
   "cell_type": "code",
   "execution_count": 18,
   "metadata": {},
   "outputs": [
    {
     "data": {
      "text/plain": [
       "16"
      ]
     },
     "execution_count": 18,
     "metadata": {},
     "output_type": "execute_result"
    }
   ],
   "source": [
    "numero = 7\n",
    "sumatorio = 0\n",
    "\n",
    "# Completa el ejercicio aquí\n",
    "\n",
    "# Generamos el bucle entre 0 y el numero+1 (para no excluirlo del range)\n",
    "for n in range(numero+1):\n",
    "    # Si no es múltiple de 5 y 7 lo sumamos\n",
    "    if n % 5 != 0 and n % 7 != 0:\n",
    "        sumatorio += n\n",
    "\n",
    "sumatorio"
   ]
  },
  {
   "cell_type": "code",
   "execution_count": 21,
   "metadata": {},
   "outputs": [
    {
     "name": "stdout",
     "output_type": "stream",
     "text": [
      "0 Hola\n",
      "1 4\n",
      "2 Adiós\n",
      "3 [1, 2, 3]\n"
     ]
    }
   ],
   "source": [
    "elementos = [\"Hola\", 4, \"Adiós\", [1,2,3]]\n",
    "\n",
    "for i, e in enumerate(elementos):\n",
    "    print(i,e)"
   ]
  },
  {
   "cell_type": "code",
   "execution_count": 22,
   "metadata": {},
   "outputs": [
    {
     "name": "stdout",
     "output_type": "stream",
     "text": [
      "10 50 100\n"
     ]
    }
   ],
   "source": [
    "a,b,c = 10,50,100\n",
    "print(a,b,c)\n"
   ]
  },
  {
   "cell_type": "code",
   "execution_count": 29,
   "metadata": {},
   "outputs": [
    {
     "name": "stdout",
     "output_type": "stream",
     "text": [
      "[5, 10, 15, 20, 25, 30, 35, 40, 45, 50, 55, 60, 65, 70, 75, 80, 85, 90, 95, 100]\n"
     ]
    }
   ],
   "source": [
    "multiplos = []\n",
    "\n",
    "# Completa el ejercicio \n",
    "numero = int(input(\"Introduce un número del 1 al 9\"))\n",
    "# Volveremos a leerlo mientras el número no se encuentre entre 1 y 9 (ambos incluidos)\n",
    "while numero < 1 or numero > 9:\n",
    "    numero = int(input())\n",
    " \n",
    "# Generamos con range toda la lista de múltiplos entre el numero y 100\n",
    "multiplos = list(range(numero, 101, numero))\n",
    "print(multiplos)"
   ]
  },
  {
   "cell_type": "code",
   "execution_count": 30,
   "metadata": {},
   "outputs": [
    {
     "name": "stdout",
     "output_type": "stream",
     "text": [
      "Esto es un texto\n",
      "(1, 5, 6, 7, 23)\n",
      "['Azul', 'Verde', 'Rojo']\n"
     ]
    }
   ],
   "source": [
    "lista = [\n",
    "    \"Esto es un texto\",\n",
    "    (1, 5, 6, 7, 23),\n",
    "    [\"Azul\", \"Verde\", \"Rojo\"]\n",
    "]\n",
    "\n",
    "for coleccion in lista:\n",
    "    print(coleccion)"
   ]
  },
  {
   "cell_type": "code",
   "execution_count": 32,
   "metadata": {},
   "outputs": [
    {
     "name": "stdout",
     "output_type": "stream",
     "text": [
      "Esto es un texto --> E\n",
      "Esto es un texto --> s\n",
      "Esto es un texto --> t\n",
      "Esto es un texto --> o\n",
      "Esto es un texto -->  \n",
      "Esto es un texto --> e\n",
      "Esto es un texto --> s\n",
      "Esto es un texto -->  \n",
      "Esto es un texto --> u\n",
      "Esto es un texto --> n\n",
      "Esto es un texto -->  \n",
      "Esto es un texto --> t\n",
      "Esto es un texto --> e\n",
      "Esto es un texto --> x\n",
      "Esto es un texto --> t\n",
      "Esto es un texto --> o\n",
      "(1, 5, 6, 7, 23) --> 1\n",
      "(1, 5, 6, 7, 23) --> 5\n",
      "(1, 5, 6, 7, 23) --> 6\n",
      "(1, 5, 6, 7, 23) --> 7\n",
      "(1, 5, 6, 7, 23) --> 23\n",
      "['Azul', 'Verde', 'Rojo'] --> Azul\n",
      "['Azul', 'Verde', 'Rojo'] --> Verde\n",
      "['Azul', 'Verde', 'Rojo'] --> Rojo\n"
     ]
    }
   ],
   "source": [
    "lista = [\n",
    "    \"Esto es un texto\",\n",
    "    (1, 5, 6, 7, 23),\n",
    "    [\"Azul\", \"Verde\", \"Rojo\"]\n",
    "]\n",
    "\n",
    "for coleccion in lista:\n",
    "    for elemento in coleccion:\n",
    "        print(coleccion, \"-->\", elemento)"
   ]
  },
  {
   "cell_type": "code",
   "execution_count": 35,
   "metadata": {},
   "outputs": [
    {
     "name": "stdout",
     "output_type": "stream",
     "text": [
      "0 Esto es un texto --> 0 E\n",
      "0 Esto es un texto --> 1 s\n",
      "0 Esto es un texto --> 2 t\n",
      "0 Esto es un texto --> 3 o\n",
      "0 Esto es un texto --> 4  \n",
      "0 Esto es un texto --> 5 e\n",
      "0 Esto es un texto --> 6 s\n",
      "0 Esto es un texto --> 7  \n",
      "0 Esto es un texto --> 8 u\n",
      "0 Esto es un texto --> 9 n\n",
      "0 Esto es un texto --> 10  \n",
      "0 Esto es un texto --> 11 t\n",
      "0 Esto es un texto --> 12 e\n",
      "0 Esto es un texto --> 13 x\n",
      "0 Esto es un texto --> 14 t\n",
      "0 Esto es un texto --> 15 o\n",
      "1 (1, 5, 6, 7, 23) --> 0 1\n",
      "1 (1, 5, 6, 7, 23) --> 1 5\n",
      "1 (1, 5, 6, 7, 23) --> 2 6\n",
      "1 (1, 5, 6, 7, 23) --> 3 7\n",
      "1 (1, 5, 6, 7, 23) --> 4 23\n",
      "2 ['Azul', 'Verde', 'Rojo'] --> 0 Azul\n",
      "2 ['Azul', 'Verde', 'Rojo'] --> 1 Verde\n",
      "2 ['Azul', 'Verde', 'Rojo'] --> 2 Rojo\n"
     ]
    }
   ],
   "source": [
    "lista = [\n",
    "    \"Esto es un texto\",\n",
    "    (1, 5, 6, 7, 23),\n",
    "    [\"Azul\", \"Verde\", \"Rojo\"]\n",
    "]\n",
    "\n",
    "for i,coleccion in enumerate(lista):\n",
    "    for b,elemento in enumerate(coleccion):\n",
    "        print(i, coleccion, \"-->\", b, elemento)"
   ]
  },
  {
   "cell_type": "code",
   "execution_count": 41,
   "metadata": {},
   "outputs": [
    {
     "name": "stdout",
     "output_type": "stream",
     "text": [
      "E\n",
      "s\n",
      "t\n",
      "o\n",
      " \n",
      "e\n",
      "s\n",
      " \n",
      "u\n",
      "n\n",
      " \n",
      "t\n",
      "e\n",
      "x\n",
      "t\n",
      "o\n",
      "1\n",
      "5\n",
      "6\n",
      "7\n",
      "23\n",
      "Azul\n",
      "Verde\n",
      "Rojo\n"
     ]
    }
   ],
   "source": [
    "lista = [\n",
    "    \"Esto es un texto\",\n",
    "    (1, 5, 6, 7, 23),\n",
    "    [\"Azul\", \"Verde\", \"Rojo\"]\n",
    "]\n",
    "\n",
    "for indice_col, coleccion in enumerate(lista):\n",
    "    for indice_ele, elemento in enumerate(coleccion):\n",
    "        print(lista[indice_col][indice_ele])"
   ]
  },
  {
   "cell_type": "code",
   "execution_count": 49,
   "metadata": {},
   "outputs": [
    {
     "name": "stdout",
     "output_type": "stream",
     "text": [
      "0 0 0 \n",
      "1 1 1 \n",
      "2 2 2 \n"
     ]
    }
   ],
   "source": [
    "tabla = [\n",
    "    [0,0,0],\n",
    "    [1,1,1],\n",
    "    [2,2,2]\n",
    "]\n",
    "\n",
    "for fila in tabla:\n",
    "    for columna in fila:\n",
    "        print(columna, end=\" \")\n",
    "    print()"
   ]
  },
  {
   "cell_type": "code",
   "execution_count": 55,
   "metadata": {},
   "outputs": [
    {
     "name": "stdout",
     "output_type": "stream",
     "text": [
      "0 0 0 \n",
      "1 1 1 \n",
      "2 2 2 \n"
     ]
    }
   ],
   "source": [
    "tabla = [\n",
    "    [0,0,0],\n",
    "    [1,1,1],\n",
    "    [2,2,2]\n",
    "]\n",
    "\n",
    "for i, fila in enumerate(tabla):\n",
    "    for j, columna in enumerate(fila):\n",
    "        print(tabla[i][j], end=\" \")\n",
    "    print()\n",
    "    "
   ]
  },
  {
   "cell_type": "code",
   "execution_count": 57,
   "metadata": {},
   "outputs": [
    {
     "name": "stdout",
     "output_type": "stream",
     "text": [
      "0\n",
      "0\n",
      "0\n",
      "1\n",
      "1\n",
      "1\n",
      "2\n",
      "2\n",
      "2\n",
      "0\n",
      "0\n",
      "0\n",
      "1\n",
      "1\n",
      "1\n",
      "2\n",
      "2\n",
      "2\n",
      "0\n",
      "0\n",
      "0\n",
      "1\n",
      "1\n",
      "1\n",
      "2\n",
      "2\n",
      "2\n"
     ]
    }
   ],
   "source": [
    "cubo = [\n",
    "    tabla, tabla, tabla\n",
    "]\n",
    "for tabla in cubo:\n",
    "    for fila in tabla:\n",
    "        for columna in fila:\n",
    "            print(columna)"
   ]
  },
  {
   "cell_type": "code",
   "execution_count": 59,
   "metadata": {},
   "outputs": [
    {
     "name": "stdout",
     "output_type": "stream",
     "text": [
      "0 0 0 \n",
      "1 1 1 \n",
      "2 2 2 \n",
      "\n",
      "0 0 0 \n",
      "1 1 1 \n",
      "2 2 2 \n",
      "\n",
      "0 0 0 \n",
      "1 1 1 \n",
      "2 2 2 \n",
      "\n"
     ]
    }
   ],
   "source": [
    "cubo = [\n",
    "    tabla, tabla, tabla\n",
    "]\n",
    "for k, tabla in enumerate(cubo):\n",
    "    for i, fila in enumerate(tabla):\n",
    "        for j, columna in enumerate(fila):\n",
    "            print(cubo[k][i][j], end=\" \")\n",
    "        print()\n",
    "    print()"
   ]
  }
 ],
 "metadata": {
  "kernelspec": {
   "display_name": "Python 3",
   "language": "python",
   "name": "python3"
  },
  "language_info": {
   "codemirror_mode": {
    "name": "ipython",
    "version": 3
   },
   "file_extension": ".py",
   "mimetype": "text/x-python",
   "name": "python",
   "nbconvert_exporter": "python",
   "pygments_lexer": "ipython3",
   "version": "3.9.6"
  }
 },
 "nbformat": 4,
 "nbformat_minor": 2
}
