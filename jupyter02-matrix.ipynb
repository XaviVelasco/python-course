{
 "cells": [
  {
   "cell_type": "code",
   "execution_count": 5,
   "metadata": {},
   "outputs": [
    {
     "name": "stdout",
     "output_type": "stream",
     "text": [
      "[[0, 1, 0], [0, 0, 1], [1, 1, 0]]\n"
     ]
    }
   ],
   "source": [
    "matriz = [\n",
    "    [8,  7,  0],\n",
    "    [34, 2, -1],\n",
    "    [5, -5, 12]\n",
    "]\n",
    "# Completa el ejercicio aquí\n",
    "for indice_fila, fila in enumerate(matriz):\n",
    "    for indice_columna, columna in enumerate(fila):\n",
    "        if matriz[indice_fila][indice_columna] % 2 == 0:\n",
    "            matriz[indice_fila][indice_columna] = 0\n",
    "        else:\n",
    "            matriz[indice_fila][indice_columna] = 1\n",
    "\n",
    "print(matriz)"
   ]
  }
 ],
 "metadata": {
  "kernelspec": {
   "display_name": "Python 3",
   "language": "python",
   "name": "python3"
  },
  "language_info": {
   "codemirror_mode": {
    "name": "ipython",
    "version": 3
   },
   "file_extension": ".py",
   "mimetype": "text/x-python",
   "name": "python",
   "nbconvert_exporter": "python",
   "pygments_lexer": "ipython3",
   "version": "3.9.6"
  }
 },
 "nbformat": 4,
 "nbformat_minor": 2
}
